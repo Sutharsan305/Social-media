{
 "cells": [
  {
   "cell_type": "markdown",
   "id": "4075b6b4",
   "metadata": {},
   "source": [
    "# <font color='Red' size = 10> Python Project </font>"
   ]
  },
  {
   "cell_type": "markdown",
   "id": "75324204",
   "metadata": {},
   "source": [
    "# "
   ]
  },
  {
   "cell_type": "markdown",
   "id": "2b08ceeb",
   "metadata": {},
   "source": [
    "# <font color='blue' size=5>Exploratory Data Analysis on YouTube data.\n",
    "#  <font color='blue' size=5> Domain: Social media </font>\n",
    "\n",
    "\n",
    "#  <font color='blue' size=5>SUBMITTED BY;\n",
    "# <font color='black' size=10>ThamaraiSelvi N</font>"
   ]
  },
  {
   "cell_type": "markdown",
   "id": "92310103",
   "metadata": {},
   "source": [
    "# ____________________________________________________________"
   ]
  },
  {
   "cell_type": "markdown",
   "id": "1ee6078f",
   "metadata": {},
   "source": [
    "# "
   ]
  },
  {
   "cell_type": "markdown",
   "id": "6777247f",
   "metadata": {},
   "source": [
    "# 1. Import required libraries and read the provided dataset (youtube_dislike_dataset.csv) and retrieve top 5 and bottom 5 records."
   ]
  },
  {
   "cell_type": "code",
   "execution_count": 32,
   "id": "0d609c1e",
   "metadata": {},
   "outputs": [],
   "source": [
    "# code imports the pandas library\n",
    "import pandas as pd\n",
    "import numpy as np\n",
    "import matplotlib.pyplot as plt\n",
    "import seaborn as sns \n"
   ]
  },
  {
   "cell_type": "code",
   "execution_count": 33,
   "id": "7f713889",
   "metadata": {},
   "outputs": [],
   "source": [
    "# Read the Dataset\n",
    "data = pd.read_csv('youtube_dislike_dataset.csv')\n"
   ]
  },
  {
   "cell_type": "code",
   "execution_count": 34,
   "id": "9ca018e2",
   "metadata": {},
   "outputs": [
    {
     "data": {
      "text/html": [
       "<div>\n",
       "<style scoped>\n",
       "    .dataframe tbody tr th:only-of-type {\n",
       "        vertical-align: middle;\n",
       "    }\n",
       "\n",
       "    .dataframe tbody tr th {\n",
       "        vertical-align: top;\n",
       "    }\n",
       "\n",
       "    .dataframe thead th {\n",
       "        text-align: right;\n",
       "    }\n",
       "</style>\n",
       "<table border=\"1\" class=\"dataframe\">\n",
       "  <thead>\n",
       "    <tr style=\"text-align: right;\">\n",
       "      <th></th>\n",
       "      <th>video_id</th>\n",
       "      <th>title</th>\n",
       "      <th>channel_id</th>\n",
       "      <th>channel_title</th>\n",
       "      <th>published_at</th>\n",
       "      <th>view_count</th>\n",
       "      <th>likes</th>\n",
       "      <th>dislikes</th>\n",
       "      <th>comment_count</th>\n",
       "      <th>tags</th>\n",
       "      <th>description</th>\n",
       "      <th>comments</th>\n",
       "    </tr>\n",
       "  </thead>\n",
       "  <tbody>\n",
       "    <tr>\n",
       "      <th>0</th>\n",
       "      <td>--0bCF-iK2E</td>\n",
       "      <td>Jadon Sancho  Magical Skills &amp; Goals</td>\n",
       "      <td>UC6UL29enLNe4mqwTfAyeNuw</td>\n",
       "      <td>Bundesliga</td>\n",
       "      <td>2021-07-01 10:00:00</td>\n",
       "      <td>1048888</td>\n",
       "      <td>19515</td>\n",
       "      <td>226</td>\n",
       "      <td>1319</td>\n",
       "      <td>football soccer ftbol alemn Bundesliga season ...</td>\n",
       "      <td>Enjoy the best skills and goals from Jadon San...</td>\n",
       "      <td>Respect to Dortmund fans,must be sad losing hi...</td>\n",
       "    </tr>\n",
       "    <tr>\n",
       "      <th>1</th>\n",
       "      <td>--14w5SOEUs</td>\n",
       "      <td>Migos - Avalanche (Official Video)</td>\n",
       "      <td>UCGIelM2Dj3zza3xyV3pL3WQ</td>\n",
       "      <td>MigosVEVO</td>\n",
       "      <td>2021-06-10 16:00:00</td>\n",
       "      <td>15352638</td>\n",
       "      <td>359277</td>\n",
       "      <td>7479</td>\n",
       "      <td>18729</td>\n",
       "      <td>Migos Avalanche Quality Control Music/Motown R...</td>\n",
       "      <td>Watch the the official video for Migos - \"Aval...</td>\n",
       "      <td>Migos just makes me want to live my live to th...</td>\n",
       "    </tr>\n",
       "    <tr>\n",
       "      <th>2</th>\n",
       "      <td>--40TEbZ9Is</td>\n",
       "      <td>Supporting Actress in a Comedy: 73rd Emmys</td>\n",
       "      <td>UClBKH8yZRcM4AsRjDVEdjMg</td>\n",
       "      <td>Television Academy</td>\n",
       "      <td>2021-09-20 01:03:32</td>\n",
       "      <td>925281</td>\n",
       "      <td>11212</td>\n",
       "      <td>401</td>\n",
       "      <td>831</td>\n",
       "      <td></td>\n",
       "      <td>Hannah Waddingham wins the Emmy for Supporting...</td>\n",
       "      <td>Hannah's energy bursts through any screen. Wel...</td>\n",
       "    </tr>\n",
       "    <tr>\n",
       "      <th>3</th>\n",
       "      <td>--4tfbSyYDE</td>\n",
       "      <td>JO1'YOUNG (JO1 ver.)' PERFORMANCE VIDEO</td>\n",
       "      <td>UCsmXiDP8S40uBeJYxvyulmA</td>\n",
       "      <td>JO1</td>\n",
       "      <td>2021-03-03 10:00:17</td>\n",
       "      <td>2641597</td>\n",
       "      <td>39131</td>\n",
       "      <td>441</td>\n",
       "      <td>3745</td>\n",
       "      <td>PRODUCE101JAPAN              JO1   TheSTAR STA...</td>\n",
       "      <td>JO1'YOUNG (JO1 ver.)' PERFORMANCE VIDEO\\n\\n---...</td>\n",
       "      <td>youngVer&gt;&lt;  REN is really PERFECT. It's not ju...</td>\n",
       "    </tr>\n",
       "    <tr>\n",
       "      <th>4</th>\n",
       "      <td>--DKkzWVh-E</td>\n",
       "      <td>Why Retaining Walls Collapse</td>\n",
       "      <td>UCMOqf8ab-42UUQIdVoKwjlQ</td>\n",
       "      <td>Practical Engineering</td>\n",
       "      <td>2021-12-07 13:00:00</td>\n",
       "      <td>715724</td>\n",
       "      <td>32887</td>\n",
       "      <td>367</td>\n",
       "      <td>1067</td>\n",
       "      <td>retaining wall New Jersey highway Direct Conne...</td>\n",
       "      <td>One of the most important (and innocuous) part...</td>\n",
       "      <td>Keep up with all my projects here: https://pr...</td>\n",
       "    </tr>\n",
       "  </tbody>\n",
       "</table>\n",
       "</div>"
      ],
      "text/plain": [
       "      video_id                                       title  \\\n",
       "0  --0bCF-iK2E        Jadon Sancho  Magical Skills & Goals   \n",
       "1  --14w5SOEUs          Migos - Avalanche (Official Video)   \n",
       "2  --40TEbZ9Is  Supporting Actress in a Comedy: 73rd Emmys   \n",
       "3  --4tfbSyYDE     JO1'YOUNG (JO1 ver.)' PERFORMANCE VIDEO   \n",
       "4  --DKkzWVh-E                Why Retaining Walls Collapse   \n",
       "\n",
       "                 channel_id          channel_title         published_at  \\\n",
       "0  UC6UL29enLNe4mqwTfAyeNuw             Bundesliga  2021-07-01 10:00:00   \n",
       "1  UCGIelM2Dj3zza3xyV3pL3WQ              MigosVEVO  2021-06-10 16:00:00   \n",
       "2  UClBKH8yZRcM4AsRjDVEdjMg     Television Academy  2021-09-20 01:03:32   \n",
       "3  UCsmXiDP8S40uBeJYxvyulmA                    JO1  2021-03-03 10:00:17   \n",
       "4  UCMOqf8ab-42UUQIdVoKwjlQ  Practical Engineering  2021-12-07 13:00:00   \n",
       "\n",
       "   view_count   likes  dislikes  comment_count  \\\n",
       "0     1048888   19515       226           1319   \n",
       "1    15352638  359277      7479          18729   \n",
       "2      925281   11212       401            831   \n",
       "3     2641597   39131       441           3745   \n",
       "4      715724   32887       367           1067   \n",
       "\n",
       "                                                tags  \\\n",
       "0  football soccer ftbol alemn Bundesliga season ...   \n",
       "1  Migos Avalanche Quality Control Music/Motown R...   \n",
       "2                                                      \n",
       "3  PRODUCE101JAPAN              JO1   TheSTAR STA...   \n",
       "4  retaining wall New Jersey highway Direct Conne...   \n",
       "\n",
       "                                         description  \\\n",
       "0  Enjoy the best skills and goals from Jadon San...   \n",
       "1  Watch the the official video for Migos - \"Aval...   \n",
       "2  Hannah Waddingham wins the Emmy for Supporting...   \n",
       "3  JO1'YOUNG (JO1 ver.)' PERFORMANCE VIDEO\\n\\n---...   \n",
       "4  One of the most important (and innocuous) part...   \n",
       "\n",
       "                                            comments  \n",
       "0  Respect to Dortmund fans,must be sad losing hi...  \n",
       "1  Migos just makes me want to live my live to th...  \n",
       "2  Hannah's energy bursts through any screen. Wel...  \n",
       "3  youngVer><  REN is really PERFECT. It's not ju...  \n",
       "4   Keep up with all my projects here: https://pr...  "
      ]
     },
     "execution_count": 34,
     "metadata": {},
     "output_type": "execute_result"
    }
   ],
   "source": [
    "# Display top 5 records\n",
    "data.head(5)"
   ]
  },
  {
   "cell_type": "code",
   "execution_count": 35,
   "id": "ecd9b6a3",
   "metadata": {},
   "outputs": [
    {
     "name": "stdout",
     "output_type": "stream",
     "text": [
      "Top 5 records:\n",
      "      video_id                                       title  \\\n",
      "0  --0bCF-iK2E        Jadon Sancho  Magical Skills & Goals   \n",
      "1  --14w5SOEUs          Migos - Avalanche (Official Video)   \n",
      "2  --40TEbZ9Is  Supporting Actress in a Comedy: 73rd Emmys   \n",
      "3  --4tfbSyYDE     JO1'YOUNG (JO1 ver.)' PERFORMANCE VIDEO   \n",
      "4  --DKkzWVh-E                Why Retaining Walls Collapse   \n",
      "\n",
      "                 channel_id          channel_title         published_at  \\\n",
      "0  UC6UL29enLNe4mqwTfAyeNuw             Bundesliga  2021-07-01 10:00:00   \n",
      "1  UCGIelM2Dj3zza3xyV3pL3WQ              MigosVEVO  2021-06-10 16:00:00   \n",
      "2  UClBKH8yZRcM4AsRjDVEdjMg     Television Academy  2021-09-20 01:03:32   \n",
      "3  UCsmXiDP8S40uBeJYxvyulmA                    JO1  2021-03-03 10:00:17   \n",
      "4  UCMOqf8ab-42UUQIdVoKwjlQ  Practical Engineering  2021-12-07 13:00:00   \n",
      "\n",
      "   view_count   likes  dislikes  comment_count  \\\n",
      "0     1048888   19515       226           1319   \n",
      "1    15352638  359277      7479          18729   \n",
      "2      925281   11212       401            831   \n",
      "3     2641597   39131       441           3745   \n",
      "4      715724   32887       367           1067   \n",
      "\n",
      "                                                tags  \\\n",
      "0  football soccer ftbol alemn Bundesliga season ...   \n",
      "1  Migos Avalanche Quality Control Music/Motown R...   \n",
      "2                                                      \n",
      "3  PRODUCE101JAPAN              JO1   TheSTAR STA...   \n",
      "4  retaining wall New Jersey highway Direct Conne...   \n",
      "\n",
      "                                         description  \\\n",
      "0  Enjoy the best skills and goals from Jadon San...   \n",
      "1  Watch the the official video for Migos - \"Aval...   \n",
      "2  Hannah Waddingham wins the Emmy for Supporting...   \n",
      "3  JO1'YOUNG (JO1 ver.)' PERFORMANCE VIDEO\\n\\n---...   \n",
      "4  One of the most important (and innocuous) part...   \n",
      "\n",
      "                                            comments  \n",
      "0  Respect to Dortmund fans,must be sad losing hi...  \n",
      "1  Migos just makes me want to live my live to th...  \n",
      "2  Hannah's energy bursts through any screen. Wel...  \n",
      "3  youngVer><  REN is really PERFECT. It's not ju...  \n",
      "4   Keep up with all my projects here: https://pr...  \n"
     ]
    }
   ],
   "source": [
    "# Display top 5 records\n",
    "top_5_records = data.head(5)\n",
    "print(\"Top 5 records:\")\n",
    "print(top_5_records)"
   ]
  },
  {
   "cell_type": "code",
   "execution_count": 36,
   "id": "3d136761",
   "metadata": {},
   "outputs": [
    {
     "data": {
      "text/html": [
       "<div>\n",
       "<style scoped>\n",
       "    .dataframe tbody tr th:only-of-type {\n",
       "        vertical-align: middle;\n",
       "    }\n",
       "\n",
       "    .dataframe tbody tr th {\n",
       "        vertical-align: top;\n",
       "    }\n",
       "\n",
       "    .dataframe thead th {\n",
       "        text-align: right;\n",
       "    }\n",
       "</style>\n",
       "<table border=\"1\" class=\"dataframe\">\n",
       "  <thead>\n",
       "    <tr style=\"text-align: right;\">\n",
       "      <th></th>\n",
       "      <th>video_id</th>\n",
       "      <th>title</th>\n",
       "      <th>channel_id</th>\n",
       "      <th>channel_title</th>\n",
       "      <th>published_at</th>\n",
       "      <th>view_count</th>\n",
       "      <th>likes</th>\n",
       "      <th>dislikes</th>\n",
       "      <th>comment_count</th>\n",
       "      <th>tags</th>\n",
       "      <th>description</th>\n",
       "      <th>comments</th>\n",
       "    </tr>\n",
       "  </thead>\n",
       "  <tbody>\n",
       "    <tr>\n",
       "      <th>37417</th>\n",
       "      <td>zzd4ydafGR0</td>\n",
       "      <td>Lil Tjay - Calling My Phone (feat. 6LACK) [Off...</td>\n",
       "      <td>UCEB4a5o_6KfjxHwNMnmj54Q</td>\n",
       "      <td>Lil Tjay</td>\n",
       "      <td>2021-02-12 05:03:49</td>\n",
       "      <td>120408275</td>\n",
       "      <td>2180780</td>\n",
       "      <td>35871</td>\n",
       "      <td>81360</td>\n",
       "      <td>Lil Tjay Steady Calling My Phone Calling My Ph...</td>\n",
       "      <td>Official video for \"Calling My Phone\" by Lil T...</td>\n",
       "      <td>'DESTINED 2 WIN' OUT NOW !! https://liltjay.ln...</td>\n",
       "    </tr>\n",
       "    <tr>\n",
       "      <th>37418</th>\n",
       "      <td>zziBybeSAtw</td>\n",
       "      <td>PELICANS at LAKERS | FULL GAME HIGHLIGHTS | Ja...</td>\n",
       "      <td>UCWJ2lWNubArHWmf3FIHbfcQ</td>\n",
       "      <td>NBA</td>\n",
       "      <td>2021-01-16 05:39:05</td>\n",
       "      <td>2841917</td>\n",
       "      <td>20759</td>\n",
       "      <td>1049</td>\n",
       "      <td>2624</td>\n",
       "      <td>NBA G League Basketball game-0022000187 Lakers...</td>\n",
       "      <td>PELICANS at LAKERS | FULL GAME HIGHLIGHTS | Ja...</td>\n",
       "      <td>Montrezl Harrell is going crazy with the rebou...</td>\n",
       "    </tr>\n",
       "    <tr>\n",
       "      <th>37419</th>\n",
       "      <td>zzk09ESX7e0</td>\n",
       "      <td>[MV]  (MAMAMOO) - Where Are We Now</td>\n",
       "      <td>UCuhAUMLzJxlP1W7mEk0_6lA</td>\n",
       "      <td>MAMAMOO</td>\n",
       "      <td>2021-06-02 09:00:10</td>\n",
       "      <td>13346678</td>\n",
       "      <td>720854</td>\n",
       "      <td>4426</td>\n",
       "      <td>90616</td>\n",
       "      <td>MAMAMOO  WAW  WAW MAMAMOO WAW Where Are We Now...</td>\n",
       "      <td>[MV]  (MAMAMOO) - Where Are We Now\\n\\nInstagra...</td>\n",
       "      <td>I honestly do not know why this song hit so ha...</td>\n",
       "    </tr>\n",
       "    <tr>\n",
       "      <th>37420</th>\n",
       "      <td>zzmQEb0Em5I</td>\n",
       "      <td>FELLIPE ESCUDERO- Master Podcast  #12</td>\n",
       "      <td>UC8NjnNWMsRqq11NYvHAQb1g</td>\n",
       "      <td>Master Podcast</td>\n",
       "      <td>2020-10-20 20:59:30</td>\n",
       "      <td>252057</td>\n",
       "      <td>19198</td>\n",
       "      <td>1234</td>\n",
       "      <td>1471</td>\n",
       "      <td>master masterpodcast lord lord vinheteiro z z ...</td>\n",
       "      <td>DOCTOR HAIR\\nhttps://www.thedoctorhair.com/?fb...</td>\n",
       "      <td>Foi um prazer passar esta tarde com vocs debat...</td>\n",
       "    </tr>\n",
       "    <tr>\n",
       "      <th>37421</th>\n",
       "      <td>zzxPZwaA-8w</td>\n",
       "      <td>Gareth Bale brace secures dramatic comeback on...</td>\n",
       "      <td>UCEg25rdRZXg32iwai6N6l0w</td>\n",
       "      <td>Tottenham Hotspur</td>\n",
       "      <td>2021-05-23 21:00:31</td>\n",
       "      <td>2252090</td>\n",
       "      <td>34063</td>\n",
       "      <td>868</td>\n",
       "      <td>2004</td>\n",
       "      <td>Spurs Tottenham Hotspur   Tottenham Leicester ...</td>\n",
       "      <td>Two minute highlights from Tottenham Hotspur's...</td>\n",
       "      <td>Thank you Kane for everything you have given t...</td>\n",
       "    </tr>\n",
       "  </tbody>\n",
       "</table>\n",
       "</div>"
      ],
      "text/plain": [
       "          video_id                                              title  \\\n",
       "37417  zzd4ydafGR0  Lil Tjay - Calling My Phone (feat. 6LACK) [Off...   \n",
       "37418  zziBybeSAtw  PELICANS at LAKERS | FULL GAME HIGHLIGHTS | Ja...   \n",
       "37419  zzk09ESX7e0                 [MV]  (MAMAMOO) - Where Are We Now   \n",
       "37420  zzmQEb0Em5I              FELLIPE ESCUDERO- Master Podcast  #12   \n",
       "37421  zzxPZwaA-8w  Gareth Bale brace secures dramatic comeback on...   \n",
       "\n",
       "                     channel_id      channel_title         published_at  \\\n",
       "37417  UCEB4a5o_6KfjxHwNMnmj54Q           Lil Tjay  2021-02-12 05:03:49   \n",
       "37418  UCWJ2lWNubArHWmf3FIHbfcQ                NBA  2021-01-16 05:39:05   \n",
       "37419  UCuhAUMLzJxlP1W7mEk0_6lA            MAMAMOO  2021-06-02 09:00:10   \n",
       "37420  UC8NjnNWMsRqq11NYvHAQb1g     Master Podcast  2020-10-20 20:59:30   \n",
       "37421  UCEg25rdRZXg32iwai6N6l0w  Tottenham Hotspur  2021-05-23 21:00:31   \n",
       "\n",
       "       view_count    likes  dislikes  comment_count  \\\n",
       "37417   120408275  2180780     35871          81360   \n",
       "37418     2841917    20759      1049           2624   \n",
       "37419    13346678   720854      4426          90616   \n",
       "37420      252057    19198      1234           1471   \n",
       "37421     2252090    34063       868           2004   \n",
       "\n",
       "                                                    tags  \\\n",
       "37417  Lil Tjay Steady Calling My Phone Calling My Ph...   \n",
       "37418  NBA G League Basketball game-0022000187 Lakers...   \n",
       "37419  MAMAMOO  WAW  WAW MAMAMOO WAW Where Are We Now...   \n",
       "37420  master masterpodcast lord lord vinheteiro z z ...   \n",
       "37421  Spurs Tottenham Hotspur   Tottenham Leicester ...   \n",
       "\n",
       "                                             description  \\\n",
       "37417  Official video for \"Calling My Phone\" by Lil T...   \n",
       "37418  PELICANS at LAKERS | FULL GAME HIGHLIGHTS | Ja...   \n",
       "37419  [MV]  (MAMAMOO) - Where Are We Now\\n\\nInstagra...   \n",
       "37420  DOCTOR HAIR\\nhttps://www.thedoctorhair.com/?fb...   \n",
       "37421  Two minute highlights from Tottenham Hotspur's...   \n",
       "\n",
       "                                                comments  \n",
       "37417  'DESTINED 2 WIN' OUT NOW !! https://liltjay.ln...  \n",
       "37418  Montrezl Harrell is going crazy with the rebou...  \n",
       "37419  I honestly do not know why this song hit so ha...  \n",
       "37420  Foi um prazer passar esta tarde com vocs debat...  \n",
       "37421  Thank you Kane for everything you have given t...  "
      ]
     },
     "execution_count": 36,
     "metadata": {},
     "output_type": "execute_result"
    }
   ],
   "source": [
    "# Display bottom 5 records\n",
    "data.tail(5)"
   ]
  },
  {
   "cell_type": "code",
   "execution_count": 37,
   "id": "98916d03",
   "metadata": {},
   "outputs": [
    {
     "name": "stdout",
     "output_type": "stream",
     "text": [
      "\n",
      "Bottom 5 records:\n",
      "          video_id                                              title  \\\n",
      "37417  zzd4ydafGR0  Lil Tjay - Calling My Phone (feat. 6LACK) [Off...   \n",
      "37418  zziBybeSAtw  PELICANS at LAKERS | FULL GAME HIGHLIGHTS | Ja...   \n",
      "37419  zzk09ESX7e0                 [MV]  (MAMAMOO) - Where Are We Now   \n",
      "37420  zzmQEb0Em5I              FELLIPE ESCUDERO- Master Podcast  #12   \n",
      "37421  zzxPZwaA-8w  Gareth Bale brace secures dramatic comeback on...   \n",
      "\n",
      "                     channel_id      channel_title         published_at  \\\n",
      "37417  UCEB4a5o_6KfjxHwNMnmj54Q           Lil Tjay  2021-02-12 05:03:49   \n",
      "37418  UCWJ2lWNubArHWmf3FIHbfcQ                NBA  2021-01-16 05:39:05   \n",
      "37419  UCuhAUMLzJxlP1W7mEk0_6lA            MAMAMOO  2021-06-02 09:00:10   \n",
      "37420  UC8NjnNWMsRqq11NYvHAQb1g     Master Podcast  2020-10-20 20:59:30   \n",
      "37421  UCEg25rdRZXg32iwai6N6l0w  Tottenham Hotspur  2021-05-23 21:00:31   \n",
      "\n",
      "       view_count    likes  dislikes  comment_count  \\\n",
      "37417   120408275  2180780     35871          81360   \n",
      "37418     2841917    20759      1049           2624   \n",
      "37419    13346678   720854      4426          90616   \n",
      "37420      252057    19198      1234           1471   \n",
      "37421     2252090    34063       868           2004   \n",
      "\n",
      "                                                    tags  \\\n",
      "37417  Lil Tjay Steady Calling My Phone Calling My Ph...   \n",
      "37418  NBA G League Basketball game-0022000187 Lakers...   \n",
      "37419  MAMAMOO  WAW  WAW MAMAMOO WAW Where Are We Now...   \n",
      "37420  master masterpodcast lord lord vinheteiro z z ...   \n",
      "37421  Spurs Tottenham Hotspur   Tottenham Leicester ...   \n",
      "\n",
      "                                             description  \\\n",
      "37417  Official video for \"Calling My Phone\" by Lil T...   \n",
      "37418  PELICANS at LAKERS | FULL GAME HIGHLIGHTS | Ja...   \n",
      "37419  [MV]  (MAMAMOO) - Where Are We Now\\n\\nInstagra...   \n",
      "37420  DOCTOR HAIR\\nhttps://www.thedoctorhair.com/?fb...   \n",
      "37421  Two minute highlights from Tottenham Hotspur's...   \n",
      "\n",
      "                                                comments  \n",
      "37417  'DESTINED 2 WIN' OUT NOW !! https://liltjay.ln...  \n",
      "37418  Montrezl Harrell is going crazy with the rebou...  \n",
      "37419  I honestly do not know why this song hit so ha...  \n",
      "37420  Foi um prazer passar esta tarde com vocs debat...  \n",
      "37421  Thank you Kane for everything you have given t...  \n"
     ]
    }
   ],
   "source": [
    "# Display bottom 5 records\n",
    "bottom_5_records = data.tail(5)\n",
    "print(\"\\nBottom 5 records:\")\n",
    "print(bottom_5_records)"
   ]
  },
  {
   "cell_type": "markdown",
   "id": "1bbc9a6f",
   "metadata": {},
   "source": [
    "This code imports the pandas library, reads the dataset, and then displays the top 5 and bottom 5 records from the dataset."
   ]
  },
  {
   "cell_type": "markdown",
   "id": "8f61a0ef",
   "metadata": {},
   "source": [
    "# <font size=5> 2. Check the info of the dataframe and write your inferences on data types and shape of the dataset.</font>"
   ]
  },
  {
   "cell_type": "code",
   "execution_count": 38,
   "id": "f59fb248",
   "metadata": {},
   "outputs": [
    {
     "name": "stdout",
     "output_type": "stream",
     "text": [
      "<class 'pandas.core.frame.DataFrame'>\n",
      "RangeIndex: 37422 entries, 0 to 37421\n",
      "Data columns (total 12 columns):\n",
      " #   Column         Non-Null Count  Dtype \n",
      "---  ------         --------------  ----- \n",
      " 0   video_id       37422 non-null  object\n",
      " 1   title          37422 non-null  object\n",
      " 2   channel_id     37422 non-null  object\n",
      " 3   channel_title  37422 non-null  object\n",
      " 4   published_at   37422 non-null  object\n",
      " 5   view_count     37422 non-null  int64 \n",
      " 6   likes          37422 non-null  int64 \n",
      " 7   dislikes       37422 non-null  int64 \n",
      " 8   comment_count  37422 non-null  int64 \n",
      " 9   tags           37422 non-null  object\n",
      " 10  description    37422 non-null  object\n",
      " 11  comments       37264 non-null  object\n",
      "dtypes: int64(4), object(8)\n",
      "memory usage: 3.4+ MB\n"
     ]
    }
   ],
   "source": [
    "# Already import the Dataset => data \n",
    "# Display information about the dataframe\n",
    "data.info()"
   ]
  },
  {
   "cell_type": "markdown",
   "id": "6bd82629",
   "metadata": {},
   "source": [
    "<font color=blue> Based on the provided information from the info() output for your dataset, here are the inferences about the data types:\n",
    "\n",
    "1)object: Columns such as video_id, title, channel_id, channel_title, published_at, tags, description, and comments are represented as objects, which usually correspond to strings or categorical data.\n",
    "\n",
    "2)int64: Columns view_count, likes, dislikes, and comment_count are represented as int64, indicating they contain integer values.\n",
    "\n",
    "3)Missing Data: The column comments has some missing values, as indicated by the difference in the counts between the total number of entries (37422) and the non-null count of comments (37264). </font>"
   ]
  },
  {
   "cell_type": "code",
   "execution_count": 39,
   "id": "3ffa575d",
   "metadata": {},
   "outputs": [
    {
     "data": {
      "text/plain": [
       "video_id         object\n",
       "title            object\n",
       "channel_id       object\n",
       "channel_title    object\n",
       "published_at     object\n",
       "view_count        int64\n",
       "likes             int64\n",
       "dislikes          int64\n",
       "comment_count     int64\n",
       "tags             object\n",
       "description      object\n",
       "comments         object\n",
       "dtype: object"
      ]
     },
     "execution_count": 39,
     "metadata": {},
     "output_type": "execute_result"
    }
   ],
   "source": [
    "data.dtypes"
   ]
  },
  {
   "cell_type": "code",
   "execution_count": 40,
   "id": "4ba300ef",
   "metadata": {},
   "outputs": [
    {
     "data": {
      "text/plain": [
       "(37422, 12)"
      ]
     },
     "execution_count": 40,
     "metadata": {},
     "output_type": "execute_result"
    }
   ],
   "source": [
    "data.shape"
   ]
  },
  {
   "cell_type": "markdown",
   "id": "c260503b",
   "metadata": {},
   "source": [
    "The shape of your dataset is (37422, 12), which means it has 37,422 rows and 12 columns. This information confirms the number of records and attributes present in your dataset."
   ]
  },
  {
   "cell_type": "markdown",
   "id": "d953c2c2",
   "metadata": {},
   "source": [
    "# 3. Check for the Percentage of the missing values and drop or impute them."
   ]
  },
  {
   "cell_type": "code",
   "execution_count": 41,
   "id": "d297cf62",
   "metadata": {},
   "outputs": [
    {
     "name": "stdout",
     "output_type": "stream",
     "text": [
      "Percentage of missing values:\n",
      "video_id         0.000000\n",
      "title            0.000000\n",
      "channel_id       0.000000\n",
      "channel_title    0.000000\n",
      "published_at     0.000000\n",
      "view_count       0.000000\n",
      "likes            0.000000\n",
      "dislikes         0.000000\n",
      "comment_count    0.000000\n",
      "tags             0.000000\n",
      "description      0.000000\n",
      "comments         0.422212\n",
      "dtype: float64\n"
     ]
    }
   ],
   "source": [
    "# Already import the Dataset => data \n",
    "\n",
    "# Calculate the percentage of missing values\n",
    "missing_percent = (data.isnull().sum() / len(data)) * 100\n",
    "print(\"Percentage of missing values:\")\n",
    "print(missing_percent)"
   ]
  },
  {
   "cell_type": "markdown",
   "id": "a151b67d",
   "metadata": {},
   "source": [
    "It looks like the only column with missing values is the 'comments' column, which has a missing percentage of approximately 0.42%. Since the percentage of missing values in the 'comments' column is quite low, you might choose to proceed by imputing these missing values.\n",
    "\n",
    "In your specific case, you can use an appropriate strategy to impute the missing values. For text data like comments, a common strategy is to replace missing values with an empty string or some placeholder value. Here's how you can impute missing values in the 'comments' column with an empty string:"
   ]
  },
  {
   "cell_type": "code",
   "execution_count": 42,
   "id": "3ce57883",
   "metadata": {},
   "outputs": [
    {
     "name": "stdout",
     "output_type": "stream",
     "text": [
      "Shape of the dataset after dropping/imputing: (37422, 12)\n",
      "video_id         0.0\n",
      "title            0.0\n",
      "channel_id       0.0\n",
      "channel_title    0.0\n",
      "published_at     0.0\n",
      "view_count       0.0\n",
      "likes            0.0\n",
      "dislikes         0.0\n",
      "comment_count    0.0\n",
      "tags             0.0\n",
      "description      0.0\n",
      "comments         0.0\n",
      "dtype: float64\n"
     ]
    }
   ],
   "source": [
    "# Decision: Drop or Impute missing values\n",
    "# Example: Impute missing values in the 'comments' column with an empty string\n",
    "data['comments'].fillna('', inplace=True)\n",
    "# You can choose to drop columns or rows with a certain threshold of missing values\n",
    "# Example: Drop columns with more than 30% missing values\n",
    "threshold = 30\n",
    "data.dropna(axis=1, thresh=len(data) * (1 - threshold / 100), inplace=True)\n",
    "\n",
    "# Example: Drop rows with missing values\n",
    "data.dropna(axis=0, inplace=True)\n",
    "\n",
    "# Display the updated shape of the dataset after dropping or imputing\n",
    "print(\"Shape of the dataset after dropping/imputing:\", data.shape)\n",
    "\n",
    "#check the missing value\n",
    "print((data.isnull().sum() / len(data)) * 100)"
   ]
  },
  {
   "cell_type": "markdown",
   "id": "e0a591ee",
   "metadata": {},
   "source": [
    "In the code above, the missing values are calculated as a percentage for each column. Then, you can decide whether to drop or impute them based on your analysis. In the example, I've shown how to impute missing values in the 'comments' column with an empty string and how to drop columns and rows based on a threshold percentage."
   ]
  },
  {
   "cell_type": "markdown",
   "id": "33ff0ae7",
   "metadata": {},
   "source": [
    "#  4. Check the statistical summary of both numerical and categorical columns and write your inferences."
   ]
  },
  {
   "cell_type": "code",
   "execution_count": 43,
   "id": "16e45d2e",
   "metadata": {},
   "outputs": [
    {
     "name": "stdout",
     "output_type": "stream",
     "text": [
      "Statistical summary of numerical columns:\n",
      "         view_count         likes      dislikes  comment_count\n",
      "count  3.742200e+04  3.742200e+04  3.742200e+04   3.742200e+04\n",
      "mean   5.697838e+06  1.668147e+05  4.989862e+03   9.924930e+03\n",
      "std    2.426622e+07  5.375670e+05  3.070824e+04   1.171003e+05\n",
      "min    2.036800e+04  0.000000e+00  0.000000e+00   0.000000e+00\n",
      "25%    5.122970e+05  1.323350e+04  2.810000e+02   9.000000e+02\n",
      "50%    1.319078e+06  4.233050e+04  7.960000e+02   2.328000e+03\n",
      "75%    3.670231e+06  1.304698e+05  2.461750e+03   6.184000e+03\n",
      "max    1.322797e+09  3.183768e+07  2.397733e+06   1.607103e+07\n"
     ]
    }
   ],
   "source": [
    "# Already import the Dataset => data\n",
    "\n",
    "# Display statistical summary of numerical columns\n",
    "numerical_summary = data.describe()\n",
    "\n",
    "print(\"Statistical summary of numerical columns:\")\n",
    "print(numerical_summary)"
   ]
  },
  {
   "cell_type": "markdown",
   "id": "94ecc556",
   "metadata": {},
   "source": [
    "Numerical Columns:\n",
    "\n",
    "1) view_count, likes, dislikes, and comment_count are numerical columns with non-negative values, as indicated by the minimum values being greater than or equal to 0.\n",
    "2) You can see the count, mean, standard deviation, minimum, 25th percentile (Q1), median (50th percentile or Q2), 75th percentile (Q3), and maximum values for these columns."
   ]
  },
  {
   "cell_type": "code",
   "execution_count": 44,
   "id": "72c3e9c5",
   "metadata": {},
   "outputs": [
    {
     "name": "stdout",
     "output_type": "stream",
     "text": [
      "\n",
      "Statistical summary of categorical columns:\n",
      "               count unique                       top  freq\n",
      "video_id       37422  37422               --0bCF-iK2E     1\n",
      "title          37422  37113                       www    21\n",
      "channel_id     37422  10961  UCNAf1k0yIjyGu3k9BwAg3lg   533\n",
      "channel_title  37422  10883       Sky Sports Football   533\n",
      "published_at   37422  36772       2020-10-16 04:00:10     6\n",
      "tags           37422  28799                            3817\n",
      "description    37422  35630                             589\n",
      "comments       37422  37265                             158\n"
     ]
    }
   ],
   "source": [
    "# Display statistical summary of categorical columns\n",
    "categorical_summary = data.describe(include=['object']).T\n",
    "\n",
    "print(\"\\nStatistical summary of categorical columns:\")\n",
    "print(categorical_summary)"
   ]
  },
  {
   "cell_type": "markdown",
   "id": "57c9e6dd",
   "metadata": {},
   "source": [
    "Categorical Columns:\n",
    "\n",
    "1) The statistical summary for categorical columns (object data type) includes the count, unique values, top most frequent value, and the frequency of the top value.\n",
    "2) Columns like video_id, title, channel_id, channel_title, tags, description, and comments have these categorical statistics.\n",
    "3) The categorical summary provides information about the most common values and their frequencies, but it doesn't give measures like mean and standard deviation as it does for numerical columns."
   ]
  },
  {
   "cell_type": "markdown",
   "id": "f54c5623",
   "metadata": {},
   "source": [
    "# 5. Convert datatype of column published_at from object to pandas datetime."
   ]
  },
  {
   "cell_type": "code",
   "execution_count": 45,
   "id": "3199b67e",
   "metadata": {},
   "outputs": [
    {
     "data": {
      "text/plain": [
       "Index(['video_id', 'title', 'channel_id', 'channel_title', 'published_at',\n",
       "       'view_count', 'likes', 'dislikes', 'comment_count', 'tags',\n",
       "       'description', 'comments'],\n",
       "      dtype='object')"
      ]
     },
     "execution_count": 45,
     "metadata": {},
     "output_type": "execute_result"
    }
   ],
   "source": [
    "# Just reference\n",
    "data.columns"
   ]
  },
  {
   "cell_type": "code",
   "execution_count": 46,
   "id": "398edecd",
   "metadata": {},
   "outputs": [
    {
     "name": "stdout",
     "output_type": "stream",
     "text": [
      "0       2021-07-01 10:00:00\n",
      "1       2021-06-10 16:00:00\n",
      "2       2021-09-20 01:03:32\n",
      "3       2021-03-03 10:00:17\n",
      "4       2021-12-07 13:00:00\n",
      "                ...        \n",
      "37417   2021-02-12 05:03:49\n",
      "37418   2021-01-16 05:39:05\n",
      "37419   2021-06-02 09:00:10\n",
      "37420   2020-10-20 20:59:30\n",
      "37421   2021-05-23 21:00:31\n",
      "Name: published_at, Length: 37422, dtype: datetime64[ns]\n"
     ]
    }
   ],
   "source": [
    "# Already import the Dataset => data \n",
    "\n",
    "# Convert 'published_at' column to datetime\n",
    "data['published_at'] = pd.to_datetime(data['published_at'])\n",
    "\n",
    "# Only Display the updated dataframe\n",
    "print(data['published_at'])"
   ]
  },
  {
   "cell_type": "code",
   "execution_count": 47,
   "id": "8c6d8864",
   "metadata": {},
   "outputs": [
    {
     "name": "stdout",
     "output_type": "stream",
     "text": [
      "video_id                 object\n",
      "title                    object\n",
      "channel_id               object\n",
      "channel_title            object\n",
      "published_at     datetime64[ns]\n",
      "view_count                int64\n",
      "likes                     int64\n",
      "dislikes                  int64\n",
      "comment_count             int64\n",
      "tags                     object\n",
      "description              object\n",
      "comments                 object\n",
      "dtype: object\n"
     ]
    }
   ],
   "source": [
    "# check the datatypes\n",
    "print(data.dtypes)"
   ]
  },
  {
   "cell_type": "markdown",
   "id": "746fbda1",
   "metadata": {},
   "source": [
    "This code reads the dataset, converts the published_at column to a pandas datetime format, and then displays the updated dataframe. The published_at column will now have datetime values, which will allow you to perform time-based analysis if needed."
   ]
  },
  {
   "cell_type": "markdown",
   "id": "37c35744",
   "metadata": {},
   "source": [
    "# 6. Create a new column as 'published_month' using the column published_at (display the months only)"
   ]
  },
  {
   "cell_type": "code",
   "execution_count": 48,
   "id": "ab811248",
   "metadata": {},
   "outputs": [
    {
     "name": "stdout",
     "output_type": "stream",
     "text": [
      "0         7\n",
      "1         6\n",
      "2         9\n",
      "3         3\n",
      "4        12\n",
      "         ..\n",
      "37417     2\n",
      "37418     1\n",
      "37419     6\n",
      "37420    10\n",
      "37421     5\n",
      "Name: published_month, Length: 37422, dtype: int32\n"
     ]
    }
   ],
   "source": [
    "# Already import the Dataset => data \n",
    "\n",
    "# Create a new column 'published_month' with the months\n",
    "data['published_month'] = data['published_at'].dt.month\n",
    "\n",
    "# Display the updated dataframe with the months only column\n",
    "print(data['published_month'])"
   ]
  },
  {
   "cell_type": "markdown",
   "id": "34d5528d",
   "metadata": {},
   "source": [
    "It seems you have successfully created the 'published_month' column with numerical month values. Each value in the column represents the month when the content was published."
   ]
  },
  {
   "cell_type": "markdown",
   "id": "08390f47",
   "metadata": {},
   "source": [
    "# 7. Replace the numbers in the column published_month as names of the months i,e., 1 as 'Jan', 2 as 'Feb' and so on....."
   ]
  },
  {
   "cell_type": "code",
   "execution_count": 49,
   "id": "73af9347",
   "metadata": {},
   "outputs": [
    {
     "name": "stdout",
     "output_type": "stream",
     "text": [
      "0        Jul\n",
      "1        Jun\n",
      "2        Sep\n",
      "3        Mar\n",
      "4        Dec\n",
      "        ... \n",
      "37417    Feb\n",
      "37418    Jan\n",
      "37419    Jun\n",
      "37420    Oct\n",
      "37421    May\n",
      "Name: published_month, Length: 37422, dtype: object\n"
     ]
    }
   ],
   "source": [
    "# Define a mapping from month numbers to month names\n",
    "month_mapping = {\n",
    "    1: 'Jan', 2: 'Feb', 3: 'Mar', 4: 'Apr', 5: 'May', 6: 'Jun',\n",
    "    7: 'Jul', 8: 'Aug', 9: 'Sep', 10: 'Oct', 11: 'Nov', 12: 'Dec'\n",
    "}\n",
    "\n",
    "# Replace numerical values with month names\n",
    "data['published_month'] = data['published_month'].apply(lambda x: month_mapping.get(x))\n",
    "\n",
    "# Display the updated dataframe with month names\n",
    "print(data['published_month'])"
   ]
  },
  {
   "cell_type": "markdown",
   "id": "e675e4f6",
   "metadata": {},
   "source": [
    "This code defines a dictionary (month_mapping) that maps month numbers to their corresponding names, and then uses the apply() function to replace the numerical month values in the 'published_month' column with their respective month names.\n",
    "\n",
    "(or)"
   ]
  },
  {
   "cell_type": "markdown",
   "id": "37a03e5e",
   "metadata": {},
   "source": [
    "After Number 6 running this code, the 'published_month' column will contain the numerical values representing the months (1 for Jan, 2 for Feb, etc.). If you prefer to have the actual month names instead of numbers, you can use the .dt.strftime('%B') method:"
   ]
  },
  {
   "cell_type": "markdown",
   "id": "c5cb496d",
   "metadata": {},
   "source": [
    "  data['published_month'] = data['published_at'].dt.strftime('%B')"
   ]
  },
  {
   "cell_type": "markdown",
   "id": "3746e6b4",
   "metadata": {},
   "source": [
    "# 8. Find the number of videos published each month and arrange the months in a decreasing order based on the video count."
   ]
  },
  {
   "cell_type": "code",
   "execution_count": 50,
   "id": "969f60b9",
   "metadata": {},
   "outputs": [
    {
     "name": "stdout",
     "output_type": "stream",
     "text": [
      "published_month\n",
      "Oct    4991\n",
      "Sep    4880\n",
      "Nov    4851\n",
      "Aug    4262\n",
      "Dec    3072\n",
      "Jul    2340\n",
      "Jun    2316\n",
      "Mar    2258\n",
      "Feb    2137\n",
      "Apr    2126\n",
      "Jan    2108\n",
      "May    2081\n",
      "Name: video_id, dtype: int64\n"
     ]
    }
   ],
   "source": [
    "# Find the number of videos published each month and arrange in decreasing order\n",
    "video_count_per_month = data.groupby(['published_month'])['video_id'].count().sort_values(ascending=False)\n",
    "\n",
    "# Display the result\n",
    "print(video_count_per_month)"
   ]
  },
  {
   "cell_type": "markdown",
   "id": "b5918843",
   "metadata": {},
   "source": [
    "This code snippet will output the number of videos published each month, with the months sorted in decreasing order based on the video count."
   ]
  },
  {
   "cell_type": "markdown",
   "id": "ee3aa3e7",
   "metadata": {},
   "source": [
    "# 9. Find the count of unique video_id, channel_id and channel_title."
   ]
  },
  {
   "cell_type": "code",
   "execution_count": 51,
   "id": "df5bc0f4",
   "metadata": {},
   "outputs": [
    {
     "name": "stdout",
     "output_type": "stream",
     "text": [
      "Count of unique video_id: 37422\n",
      "Count of unique channel_id: 10961\n",
      "Count of unique channel_title: 10883\n"
     ]
    }
   ],
   "source": [
    "# Find the count of unique video_id, channel_id, and channel_title\n",
    "unique_video_id_count = data['video_id'].nunique()\n",
    "unique_channel_id_count = data['channel_id'].nunique()\n",
    "unique_channel_title_count = data['channel_title'].nunique()\n",
    "\n",
    "# Display the counts\n",
    "print(\"Count of unique video_id:\", unique_video_id_count)\n",
    "print(\"Count of unique channel_id:\", unique_channel_id_count)\n",
    "print(\"Count of unique channel_title:\", unique_channel_title_count)"
   ]
  },
  {
   "cell_type": "markdown",
   "id": "c0ec25d0",
   "metadata": {},
   "source": [
    "This code snippet will output the count of unique values for each of the specified columns."
   ]
  },
  {
   "cell_type": "markdown",
   "id": "2fe71db1",
   "metadata": {},
   "source": [
    "# 10. Find the top10 channel names having the highest number of videos in the dataset and the bottom10 having lowest number of videos. "
   ]
  },
  {
   "cell_type": "code",
   "execution_count": 52,
   "id": "8b54119f",
   "metadata": {},
   "outputs": [
    {
     "name": "stdout",
     "output_type": "stream",
     "text": [
      "Top 10 channels with the highest number of videos:\n",
      "channel_title\n",
      "Sky Sports Football    533\n",
      "The United Stand       301\n",
      "BT Sport               246\n",
      "NBA                    209\n",
      "NFL                    162\n",
      "WWE                    122\n",
      "SSSniperWolf            99\n",
      "SSundee                 98\n",
      "FORMULA 1               87\n",
      "NHL                     86\n",
      "Name: count, dtype: int64\n"
     ]
    }
   ],
   "source": [
    "# Find the count of videos for each channel and sort in descending order\n",
    "channel_video_count = data['channel_title'].value_counts()\n",
    "\n",
    "# Top 10 channels with the highest number of videos\n",
    "top_10_channels = channel_video_count.head(10)\n",
    "\n",
    "# Display the results\n",
    "print(\"Top 10 channels with the highest number of videos:\")\n",
    "print(top_10_channels)\n"
   ]
  },
  {
   "cell_type": "code",
   "execution_count": 53,
   "id": "983ec7f8",
   "metadata": {},
   "outputs": [
    {
     "name": "stdout",
     "output_type": "stream",
     "text": [
      "\n",
      "Bottom 10 channels with the lowest number of videos:\n",
      "channel_title\n",
      "Eiaz                     1\n",
      "adidas                   1\n",
      "Universitetet i Agder    1\n",
      "Team Tapia               1\n",
      "TheVincentMottola        1\n",
      "Blocktrainer             1\n",
      "Movie Addicts            1\n",
      "1 1 minute mom           1\n",
      "FLORIN CERCEL            1\n",
      "Master Podcast           1\n",
      "Name: count, dtype: int64\n"
     ]
    }
   ],
   "source": [
    "# Bottom 10 channels with the lowest number of videos\n",
    "bottom_10_channels = channel_video_count.tail(10)\n",
    "\n",
    "print(\"\\nBottom 10 channels with the lowest number of videos:\")\n",
    "print(bottom_10_channels)"
   ]
  },
  {
   "cell_type": "markdown",
   "id": "39367872",
   "metadata": {},
   "source": [
    "This code snippet will output the top 10 channels with the highest number of videos and the bottom 10 channels with the lowest number of videos. Adjust the number of channels as needed, or you can modify the code to get a different number of channels if desired."
   ]
  },
  {
   "cell_type": "markdown",
   "id": "f3268176",
   "metadata": {},
   "source": [
    "# 11. Find the title of the video which has the maximum number of likes and the title of the video having minimum likes and write your inferences."
   ]
  },
  {
   "cell_type": "code",
   "execution_count": 54,
   "id": "1e78b67f",
   "metadata": {},
   "outputs": [
    {
     "name": "stdout",
     "output_type": "stream",
     "text": [
      "Title of the video with the maximum number of likes: BTS () 'Dynamite' Official MV\n",
      "Title of the video with the minimum number of likes: Kim Kardashian's Must-See Moments on \"Saturday Night Live\" | E! News\n"
     ]
    }
   ],
   "source": [
    "# Find the title of the video with the maximum and minimum likes\n",
    "max_likes_title = data.loc[data['likes'].idxmax(), 'title']\n",
    "min_likes_title = data.loc[data['likes'].idxmin(), 'title']\n",
    "\n",
    "# Display the titles\n",
    "print(\"Title of the video with the maximum number of likes:\", max_likes_title)\n",
    "print(\"Title of the video with the minimum number of likes:\", min_likes_title)"
   ]
  },
  {
   "cell_type": "markdown",
   "id": "4f208348",
   "metadata": {},
   "source": [
    "The video with the maximum number of likes is titled \"BTS () 'Dynamite' Official MV,\" while the video with the minimum number of likes is \"Kim Kardashian's Must-See Moments on 'Saturday Night Live' | E! News.\"\n",
    "\n",
    "From this information, we can infer:\n",
    "\n",
    "1) \"BTS () 'Dynamite' Official MV\" has gained a significant amount of positive engagement, resulting in the highest number of likes.\n",
    "2) \"Kim Kardashian's Must-See Moments on 'Saturday Night Live' | E! News\" might not have resonated as strongly with the viewers, leading to a lower number of likes.\n",
    "\n",
    "\n",
    "It's important to consider other factors such as views, comments, and the context of the videos to have a comprehensive understanding of their popularity or reception."
   ]
  },
  {
   "cell_type": "markdown",
   "id": "e2f5c2d2",
   "metadata": {},
   "source": [
    "# 12. Find the title of the video which has the maximum number of dislikes and the title of the video having minimum dislikes and write your inferences."
   ]
  },
  {
   "cell_type": "code",
   "execution_count": 55,
   "id": "55694023",
   "metadata": {},
   "outputs": [
    {
     "name": "stdout",
     "output_type": "stream",
     "text": [
      "Title of the video with the maximum number of dislikes: Cuties | Official Trailer | Netflix\n",
      "Title of the video with the minimum number of dislikes: Kim Kardashian's Must-See Moments on \"Saturday Night Live\" | E! News\n"
     ]
    }
   ],
   "source": [
    "# Find the title of the video with the maximum and minimum dislikes\n",
    "max_dislikes_title = data.loc[data['dislikes'].idxmax(), 'title']\n",
    "min_dislikes_title = data.loc[data['dislikes'].idxmin(), 'title']\n",
    "\n",
    "# Display the titles\n",
    "print(\"Title of the video with the maximum number of dislikes:\", max_dislikes_title)\n",
    "print(\"Title of the video with the minimum number of dislikes:\", min_dislikes_title)"
   ]
  },
  {
   "cell_type": "markdown",
   "id": "e05cdc9d",
   "metadata": {},
   "source": [
    "The video with the maximum number of dislikes is titled \"Cuties | Official Trailer | Netflix,\" while the video with the minimum number of dislikes is \"Kim Kardashian's Must-See Moments on 'Saturday Night Live' | E! News.\"\n",
    "\n",
    "From this information, we can infer:\n",
    "\n",
    "1) \"Cuties | Official Trailer | Netflix\" might have faced significant backlash or controversy, leading to a higher number of dislikes compared to other videos.\n",
    "2) \"Kim Kardashian's Must-See Moments on 'Saturday Night Live' | E! News\" might have been relatively well-received, resulting in fewer dislikes.\n",
    "\n",
    "As with likes and other metrics, it's important to consider the context, content, and audience perspective when interpreting the dislike counts."
   ]
  },
  {
   "cell_type": "markdown",
   "id": "80cf03f7",
   "metadata": {},
   "source": [
    "# 13. Does the number of views have any effect on how many people disliked the video? Support your answer with a metric and a plot."
   ]
  },
  {
   "cell_type": "code",
   "execution_count": 56,
   "id": "5c12e7f2",
   "metadata": {},
   "outputs": [
    {
     "data": {
      "image/png": "[encoded data removed]",
      "text/plain": [
       "<Figure size 1000x600 with 1 Axes>"
      ]
     },
     "metadata": {},
     "output_type": "display_data"
    },
    {
     "name": "stdout",
     "output_type": "stream",
     "text": [
      "Correlation between view_count and dislikes: 0.6844687753905547\n"
     ]
    }
   ],
   "source": [
    "# Calculate the correlation between 'view_count' and 'dislikes'\n",
    "correlation = data['view_count'].corr(data['dislikes'])\n",
    "\n",
    "# Create a scatter plot\n",
    "plt.figure(figsize=(10, 6))\n",
    "sns.scatterplot(data=data, x='view_count', y='dislikes', alpha=0.5)\n",
    "plt.title(f\"Scatter Plot of View Count vs Dislikes\\nCorrelation: {correlation:.2f}\")\n",
    "plt.xlabel('View Count')\n",
    "plt.ylabel('Dislikes')\n",
    "plt.grid(True)\n",
    "plt.show()\n",
    "\n",
    "print(\"Correlation between view_count and dislikes:\", correlation)"
   ]
  },
  {
   "cell_type": "markdown",
   "id": "17730e6a",
   "metadata": {},
   "source": [
    "The correlation coefficient between 'view_count' and 'dislikes' is approximately 0.68, which indicates a positive correlation between these two variables. This suggests that there is a moderate positive relationship between the number of views and the number of dislikes a video receives.\n",
    "\n",
    "The scatter plot will visually represent this relationship. If the points on the scatter plot tend to form an upward-sloping pattern, it further supports the positive correlation, implying that videos with higher view counts tend to have higher numbers of dislikes.\n",
    "\n",
    "Keep in mind that correlation does not necessarily imply causation. Other factors, such as the video's content, audience engagement, or external events, could contribute to both higher view counts and higher numbers of dislikes."
   ]
  },
  {
   "cell_type": "markdown",
   "id": "94342522",
   "metadata": {},
   "source": [
    "# 14. Display all the information about the videos that were published in January, and mention the count of videos that were published in January."
   ]
  },
  {
   "cell_type": "code",
   "execution_count": 57,
   "id": "918b965d",
   "metadata": {},
   "outputs": [
    {
     "data": {
      "text/html": [
       "<div>\n",
       "<style scoped>\n",
       "    .dataframe tbody tr th:only-of-type {\n",
       "        vertical-align: middle;\n",
       "    }\n",
       "\n",
       "    .dataframe tbody tr th {\n",
       "        vertical-align: top;\n",
       "    }\n",
       "\n",
       "    .dataframe thead th {\n",
       "        text-align: right;\n",
       "    }\n",
       "</style>\n",
       "<table border=\"1\" class=\"dataframe\">\n",
       "  <thead>\n",
       "    <tr style=\"text-align: right;\">\n",
       "      <th></th>\n",
       "      <th>video_id</th>\n",
       "      <th>title</th>\n",
       "      <th>channel_id</th>\n",
       "      <th>channel_title</th>\n",
       "      <th>published_at</th>\n",
       "      <th>view_count</th>\n",
       "      <th>likes</th>\n",
       "      <th>dislikes</th>\n",
       "      <th>comment_count</th>\n",
       "      <th>tags</th>\n",
       "      <th>description</th>\n",
       "      <th>comments</th>\n",
       "      <th>published_month</th>\n",
       "    </tr>\n",
       "  </thead>\n",
       "  <tbody>\n",
       "    <tr>\n",
       "      <th>0</th>\n",
       "      <td>--0bCF-iK2E</td>\n",
       "      <td>Jadon Sancho  Magical Skills &amp; Goals</td>\n",
       "      <td>UC6UL29enLNe4mqwTfAyeNuw</td>\n",
       "      <td>Bundesliga</td>\n",
       "      <td>2021-07-01 10:00:00</td>\n",
       "      <td>1048888</td>\n",
       "      <td>19515</td>\n",
       "      <td>226</td>\n",
       "      <td>1319</td>\n",
       "      <td>football soccer ftbol alemn Bundesliga season ...</td>\n",
       "      <td>Enjoy the best skills and goals from Jadon San...</td>\n",
       "      <td>Respect to Dortmund fans,must be sad losing hi...</td>\n",
       "      <td>Jul</td>\n",
       "    </tr>\n",
       "    <tr>\n",
       "      <th>1</th>\n",
       "      <td>--14w5SOEUs</td>\n",
       "      <td>Migos - Avalanche (Official Video)</td>\n",
       "      <td>UCGIelM2Dj3zza3xyV3pL3WQ</td>\n",
       "      <td>MigosVEVO</td>\n",
       "      <td>2021-06-10 16:00:00</td>\n",
       "      <td>15352638</td>\n",
       "      <td>359277</td>\n",
       "      <td>7479</td>\n",
       "      <td>18729</td>\n",
       "      <td>Migos Avalanche Quality Control Music/Motown R...</td>\n",
       "      <td>Watch the the official video for Migos - \"Aval...</td>\n",
       "      <td>Migos just makes me want to live my live to th...</td>\n",
       "      <td>Jun</td>\n",
       "    </tr>\n",
       "    <tr>\n",
       "      <th>2</th>\n",
       "      <td>--40TEbZ9Is</td>\n",
       "      <td>Supporting Actress in a Comedy: 73rd Emmys</td>\n",
       "      <td>UClBKH8yZRcM4AsRjDVEdjMg</td>\n",
       "      <td>Television Academy</td>\n",
       "      <td>2021-09-20 01:03:32</td>\n",
       "      <td>925281</td>\n",
       "      <td>11212</td>\n",
       "      <td>401</td>\n",
       "      <td>831</td>\n",
       "      <td></td>\n",
       "      <td>Hannah Waddingham wins the Emmy for Supporting...</td>\n",
       "      <td>Hannah's energy bursts through any screen. Wel...</td>\n",
       "      <td>Sep</td>\n",
       "    </tr>\n",
       "    <tr>\n",
       "      <th>3</th>\n",
       "      <td>--4tfbSyYDE</td>\n",
       "      <td>JO1'YOUNG (JO1 ver.)' PERFORMANCE VIDEO</td>\n",
       "      <td>UCsmXiDP8S40uBeJYxvyulmA</td>\n",
       "      <td>JO1</td>\n",
       "      <td>2021-03-03 10:00:17</td>\n",
       "      <td>2641597</td>\n",
       "      <td>39131</td>\n",
       "      <td>441</td>\n",
       "      <td>3745</td>\n",
       "      <td>PRODUCE101JAPAN              JO1   TheSTAR STA...</td>\n",
       "      <td>JO1'YOUNG (JO1 ver.)' PERFORMANCE VIDEO\\n\\n---...</td>\n",
       "      <td>youngVer&gt;&lt;  REN is really PERFECT. It's not ju...</td>\n",
       "      <td>Mar</td>\n",
       "    </tr>\n",
       "    <tr>\n",
       "      <th>4</th>\n",
       "      <td>--DKkzWVh-E</td>\n",
       "      <td>Why Retaining Walls Collapse</td>\n",
       "      <td>UCMOqf8ab-42UUQIdVoKwjlQ</td>\n",
       "      <td>Practical Engineering</td>\n",
       "      <td>2021-12-07 13:00:00</td>\n",
       "      <td>715724</td>\n",
       "      <td>32887</td>\n",
       "      <td>367</td>\n",
       "      <td>1067</td>\n",
       "      <td>retaining wall New Jersey highway Direct Conne...</td>\n",
       "      <td>One of the most important (and innocuous) part...</td>\n",
       "      <td>Keep up with all my projects here: https://pr...</td>\n",
       "      <td>Dec</td>\n",
       "    </tr>\n",
       "    <tr>\n",
       "      <th>...</th>\n",
       "      <td>...</td>\n",
       "      <td>...</td>\n",
       "      <td>...</td>\n",
       "      <td>...</td>\n",
       "      <td>...</td>\n",
       "      <td>...</td>\n",
       "      <td>...</td>\n",
       "      <td>...</td>\n",
       "      <td>...</td>\n",
       "      <td>...</td>\n",
       "      <td>...</td>\n",
       "      <td>...</td>\n",
       "      <td>...</td>\n",
       "    </tr>\n",
       "    <tr>\n",
       "      <th>37417</th>\n",
       "      <td>zzd4ydafGR0</td>\n",
       "      <td>Lil Tjay - Calling My Phone (feat. 6LACK) [Off...</td>\n",
       "      <td>UCEB4a5o_6KfjxHwNMnmj54Q</td>\n",
       "      <td>Lil Tjay</td>\n",
       "      <td>2021-02-12 05:03:49</td>\n",
       "      <td>120408275</td>\n",
       "      <td>2180780</td>\n",
       "      <td>35871</td>\n",
       "      <td>81360</td>\n",
       "      <td>Lil Tjay Steady Calling My Phone Calling My Ph...</td>\n",
       "      <td>Official video for \"Calling My Phone\" by Lil T...</td>\n",
       "      <td>'DESTINED 2 WIN' OUT NOW !! https://liltjay.ln...</td>\n",
       "      <td>Feb</td>\n",
       "    </tr>\n",
       "    <tr>\n",
       "      <th>37418</th>\n",
       "      <td>zziBybeSAtw</td>\n",
       "      <td>PELICANS at LAKERS | FULL GAME HIGHLIGHTS | Ja...</td>\n",
       "      <td>UCWJ2lWNubArHWmf3FIHbfcQ</td>\n",
       "      <td>NBA</td>\n",
       "      <td>2021-01-16 05:39:05</td>\n",
       "      <td>2841917</td>\n",
       "      <td>20759</td>\n",
       "      <td>1049</td>\n",
       "      <td>2624</td>\n",
       "      <td>NBA G League Basketball game-0022000187 Lakers...</td>\n",
       "      <td>PELICANS at LAKERS | FULL GAME HIGHLIGHTS | Ja...</td>\n",
       "      <td>Montrezl Harrell is going crazy with the rebou...</td>\n",
       "      <td>Jan</td>\n",
       "    </tr>\n",
       "    <tr>\n",
       "      <th>37419</th>\n",
       "      <td>zzk09ESX7e0</td>\n",
       "      <td>[MV]  (MAMAMOO) - Where Are We Now</td>\n",
       "      <td>UCuhAUMLzJxlP1W7mEk0_6lA</td>\n",
       "      <td>MAMAMOO</td>\n",
       "      <td>2021-06-02 09:00:10</td>\n",
       "      <td>13346678</td>\n",
       "      <td>720854</td>\n",
       "      <td>4426</td>\n",
       "      <td>90616</td>\n",
       "      <td>MAMAMOO  WAW  WAW MAMAMOO WAW Where Are We Now...</td>\n",
       "      <td>[MV]  (MAMAMOO) - Where Are We Now\\n\\nInstagra...</td>\n",
       "      <td>I honestly do not know why this song hit so ha...</td>\n",
       "      <td>Jun</td>\n",
       "    </tr>\n",
       "    <tr>\n",
       "      <th>37420</th>\n",
       "      <td>zzmQEb0Em5I</td>\n",
       "      <td>FELLIPE ESCUDERO- Master Podcast  #12</td>\n",
       "      <td>UC8NjnNWMsRqq11NYvHAQb1g</td>\n",
       "      <td>Master Podcast</td>\n",
       "      <td>2020-10-20 20:59:30</td>\n",
       "      <td>252057</td>\n",
       "      <td>19198</td>\n",
       "      <td>1234</td>\n",
       "      <td>1471</td>\n",
       "      <td>master masterpodcast lord lord vinheteiro z z ...</td>\n",
       "      <td>DOCTOR HAIR\\nhttps://www.thedoctorhair.com/?fb...</td>\n",
       "      <td>Foi um prazer passar esta tarde com vocs debat...</td>\n",
       "      <td>Oct</td>\n",
       "    </tr>\n",
       "    <tr>\n",
       "      <th>37421</th>\n",
       "      <td>zzxPZwaA-8w</td>\n",
       "      <td>Gareth Bale brace secures dramatic comeback on...</td>\n",
       "      <td>UCEg25rdRZXg32iwai6N6l0w</td>\n",
       "      <td>Tottenham Hotspur</td>\n",
       "      <td>2021-05-23 21:00:31</td>\n",
       "      <td>2252090</td>\n",
       "      <td>34063</td>\n",
       "      <td>868</td>\n",
       "      <td>2004</td>\n",
       "      <td>Spurs Tottenham Hotspur   Tottenham Leicester ...</td>\n",
       "      <td>Two minute highlights from Tottenham Hotspur's...</td>\n",
       "      <td>Thank you Kane for everything you have given t...</td>\n",
       "      <td>May</td>\n",
       "    </tr>\n",
       "  </tbody>\n",
       "</table>\n",
       "<p>37422 rows × 13 columns</p>\n",
       "</div>"
      ],
      "text/plain": [
       "          video_id                                              title  \\\n",
       "0      --0bCF-iK2E               Jadon Sancho  Magical Skills & Goals   \n",
       "1      --14w5SOEUs                 Migos - Avalanche (Official Video)   \n",
       "2      --40TEbZ9Is         Supporting Actress in a Comedy: 73rd Emmys   \n",
       "3      --4tfbSyYDE            JO1'YOUNG (JO1 ver.)' PERFORMANCE VIDEO   \n",
       "4      --DKkzWVh-E                       Why Retaining Walls Collapse   \n",
       "...            ...                                                ...   \n",
       "37417  zzd4ydafGR0  Lil Tjay - Calling My Phone (feat. 6LACK) [Off...   \n",
       "37418  zziBybeSAtw  PELICANS at LAKERS | FULL GAME HIGHLIGHTS | Ja...   \n",
       "37419  zzk09ESX7e0                 [MV]  (MAMAMOO) - Where Are We Now   \n",
       "37420  zzmQEb0Em5I              FELLIPE ESCUDERO- Master Podcast  #12   \n",
       "37421  zzxPZwaA-8w  Gareth Bale brace secures dramatic comeback on...   \n",
       "\n",
       "                     channel_id          channel_title        published_at  \\\n",
       "0      UC6UL29enLNe4mqwTfAyeNuw             Bundesliga 2021-07-01 10:00:00   \n",
       "1      UCGIelM2Dj3zza3xyV3pL3WQ              MigosVEVO 2021-06-10 16:00:00   \n",
       "2      UClBKH8yZRcM4AsRjDVEdjMg     Television Academy 2021-09-20 01:03:32   \n",
       "3      UCsmXiDP8S40uBeJYxvyulmA                    JO1 2021-03-03 10:00:17   \n",
       "4      UCMOqf8ab-42UUQIdVoKwjlQ  Practical Engineering 2021-12-07 13:00:00   \n",
       "...                         ...                    ...                 ...   \n",
       "37417  UCEB4a5o_6KfjxHwNMnmj54Q               Lil Tjay 2021-02-12 05:03:49   \n",
       "37418  UCWJ2lWNubArHWmf3FIHbfcQ                    NBA 2021-01-16 05:39:05   \n",
       "37419  UCuhAUMLzJxlP1W7mEk0_6lA                MAMAMOO 2021-06-02 09:00:10   \n",
       "37420  UC8NjnNWMsRqq11NYvHAQb1g         Master Podcast 2020-10-20 20:59:30   \n",
       "37421  UCEg25rdRZXg32iwai6N6l0w      Tottenham Hotspur 2021-05-23 21:00:31   \n",
       "\n",
       "       view_count    likes  dislikes  comment_count  \\\n",
       "0         1048888    19515       226           1319   \n",
       "1        15352638   359277      7479          18729   \n",
       "2          925281    11212       401            831   \n",
       "3         2641597    39131       441           3745   \n",
       "4          715724    32887       367           1067   \n",
       "...           ...      ...       ...            ...   \n",
       "37417   120408275  2180780     35871          81360   \n",
       "37418     2841917    20759      1049           2624   \n",
       "37419    13346678   720854      4426          90616   \n",
       "37420      252057    19198      1234           1471   \n",
       "37421     2252090    34063       868           2004   \n",
       "\n",
       "                                                    tags  \\\n",
       "0      football soccer ftbol alemn Bundesliga season ...   \n",
       "1      Migos Avalanche Quality Control Music/Motown R...   \n",
       "2                                                          \n",
       "3      PRODUCE101JAPAN              JO1   TheSTAR STA...   \n",
       "4      retaining wall New Jersey highway Direct Conne...   \n",
       "...                                                  ...   \n",
       "37417  Lil Tjay Steady Calling My Phone Calling My Ph...   \n",
       "37418  NBA G League Basketball game-0022000187 Lakers...   \n",
       "37419  MAMAMOO  WAW  WAW MAMAMOO WAW Where Are We Now...   \n",
       "37420  master masterpodcast lord lord vinheteiro z z ...   \n",
       "37421  Spurs Tottenham Hotspur   Tottenham Leicester ...   \n",
       "\n",
       "                                             description  \\\n",
       "0      Enjoy the best skills and goals from Jadon San...   \n",
       "1      Watch the the official video for Migos - \"Aval...   \n",
       "2      Hannah Waddingham wins the Emmy for Supporting...   \n",
       "3      JO1'YOUNG (JO1 ver.)' PERFORMANCE VIDEO\\n\\n---...   \n",
       "4      One of the most important (and innocuous) part...   \n",
       "...                                                  ...   \n",
       "37417  Official video for \"Calling My Phone\" by Lil T...   \n",
       "37418  PELICANS at LAKERS | FULL GAME HIGHLIGHTS | Ja...   \n",
       "37419  [MV]  (MAMAMOO) - Where Are We Now\\n\\nInstagra...   \n",
       "37420  DOCTOR HAIR\\nhttps://www.thedoctorhair.com/?fb...   \n",
       "37421  Two minute highlights from Tottenham Hotspur's...   \n",
       "\n",
       "                                                comments published_month  \n",
       "0      Respect to Dortmund fans,must be sad losing hi...             Jul  \n",
       "1      Migos just makes me want to live my live to th...             Jun  \n",
       "2      Hannah's energy bursts through any screen. Wel...             Sep  \n",
       "3      youngVer><  REN is really PERFECT. It's not ju...             Mar  \n",
       "4       Keep up with all my projects here: https://pr...             Dec  \n",
       "...                                                  ...             ...  \n",
       "37417  'DESTINED 2 WIN' OUT NOW !! https://liltjay.ln...             Feb  \n",
       "37418  Montrezl Harrell is going crazy with the rebou...             Jan  \n",
       "37419  I honestly do not know why this song hit so ha...             Jun  \n",
       "37420  Foi um prazer passar esta tarde com vocs debat...             Oct  \n",
       "37421  Thank you Kane for everything you have given t...             May  \n",
       "\n",
       "[37422 rows x 13 columns]"
      ]
     },
     "execution_count": 57,
     "metadata": {},
     "output_type": "execute_result"
    }
   ],
   "source": [
    "# Reference in All data\n",
    "data"
   ]
  },
  {
   "cell_type": "code",
   "execution_count": 58,
   "id": "53703cfb",
   "metadata": {},
   "outputs": [
    {
     "data": {
      "text/html": [
       "<div>\n",
       "<style scoped>\n",
       "    .dataframe tbody tr th:only-of-type {\n",
       "        vertical-align: middle;\n",
       "    }\n",
       "\n",
       "    .dataframe tbody tr th {\n",
       "        vertical-align: top;\n",
       "    }\n",
       "\n",
       "    .dataframe thead th {\n",
       "        text-align: right;\n",
       "    }\n",
       "</style>\n",
       "<table border=\"1\" class=\"dataframe\">\n",
       "  <thead>\n",
       "    <tr style=\"text-align: right;\">\n",
       "      <th></th>\n",
       "      <th>video_id</th>\n",
       "      <th>title</th>\n",
       "      <th>channel_id</th>\n",
       "      <th>channel_title</th>\n",
       "      <th>published_at</th>\n",
       "      <th>view_count</th>\n",
       "      <th>likes</th>\n",
       "      <th>dislikes</th>\n",
       "      <th>comment_count</th>\n",
       "      <th>tags</th>\n",
       "      <th>description</th>\n",
       "      <th>comments</th>\n",
       "      <th>published_month</th>\n",
       "    </tr>\n",
       "  </thead>\n",
       "  <tbody>\n",
       "    <tr>\n",
       "      <th>27</th>\n",
       "      <td>-2Gwm7QfBnE</td>\n",
       "      <td>Q&amp;A With Naisha</td>\n",
       "      <td>UCYwNMbogQFzMccPSuy-pPWg</td>\n",
       "      <td>MianTwins</td>\n",
       "      <td>2021-01-21 00:05:47</td>\n",
       "      <td>872372</td>\n",
       "      <td>38626</td>\n",
       "      <td>239</td>\n",
       "      <td>621</td>\n",
       "      <td></td>\n",
       "      <td>Hey Guys!!! this has been the most requested v...</td>\n",
       "      <td>I feel like Nate and Aishas personality match ...</td>\n",
       "      <td>Jan</td>\n",
       "    </tr>\n",
       "    <tr>\n",
       "      <th>48</th>\n",
       "      <td>-4sfXSHSxzA</td>\n",
       "      <td>SURPRISING BRENT WITH HIS TIKTOK CRUSH!!</td>\n",
       "      <td>UCPpATKqmMV-CNRNWYaDUwiA</td>\n",
       "      <td>Alexa Rivera</td>\n",
       "      <td>2021-01-16 21:40:04</td>\n",
       "      <td>6504784</td>\n",
       "      <td>262477</td>\n",
       "      <td>5779</td>\n",
       "      <td>7907</td>\n",
       "      <td></td>\n",
       "      <td>He had no idea! Thank you guys so much for wat...</td>\n",
       "      <td>Thank you guys for watching and don't forget t...</td>\n",
       "      <td>Jan</td>\n",
       "    </tr>\n",
       "    <tr>\n",
       "      <th>95</th>\n",
       "      <td>-AJD1Fc5rpQ</td>\n",
       "      <td>WE ARE HAVING A BABY! | finding out i'm pregna...</td>\n",
       "      <td>UCVsTboAhpnuL6j-tDePvNwQ</td>\n",
       "      <td>Tess Christine</td>\n",
       "      <td>2021-01-03 21:53:48</td>\n",
       "      <td>533084</td>\n",
       "      <td>38965</td>\n",
       "      <td>119</td>\n",
       "      <td>1650</td>\n",
       "      <td></td>\n",
       "      <td>I am so happy to tell you that I am pregnant!!...</td>\n",
       "      <td>Okay I needed a moment to collect my thoughts ...</td>\n",
       "      <td>Jan</td>\n",
       "    </tr>\n",
       "    <tr>\n",
       "      <th>103</th>\n",
       "      <td>-AuJiwjsmWk</td>\n",
       "      <td>Do Ugly Foods Taste Worse? Taste Test</td>\n",
       "      <td>UCzpCc5n9hqiVC7HhPwcIKEg</td>\n",
       "      <td>Good Mythical MORE</td>\n",
       "      <td>2021-01-19 11:00:01</td>\n",
       "      <td>1057077</td>\n",
       "      <td>22526</td>\n",
       "      <td>531</td>\n",
       "      <td>773</td>\n",
       "      <td>gmm good mythical morning rhettandlink rhett a...</td>\n",
       "      <td>Today, we're doing a blind taste test to deter...</td>\n",
       "      <td>\"there's nothing wrong with it being bent\"\\nI ...</td>\n",
       "      <td>Jan</td>\n",
       "    </tr>\n",
       "    <tr>\n",
       "      <th>182</th>\n",
       "      <td>-JhqO2KWr5U</td>\n",
       "      <td>Schlatt gets fit</td>\n",
       "      <td>UCWZp4y1jqBuvLtiyxSs_ZBw</td>\n",
       "      <td>Big guy</td>\n",
       "      <td>2021-01-24 22:50:57</td>\n",
       "      <td>1724965</td>\n",
       "      <td>119431</td>\n",
       "      <td>325</td>\n",
       "      <td>1578</td>\n",
       "      <td>jschlatt big guy jschlatt highlights schlatt j...</td>\n",
       "      <td>#jschlatt #schlatt #bigguy #short</td>\n",
       "      <td>Schlatt is single handedly wiping out all the ...</td>\n",
       "      <td>Jan</td>\n",
       "    </tr>\n",
       "    <tr>\n",
       "      <th>...</th>\n",
       "      <td>...</td>\n",
       "      <td>...</td>\n",
       "      <td>...</td>\n",
       "      <td>...</td>\n",
       "      <td>...</td>\n",
       "      <td>...</td>\n",
       "      <td>...</td>\n",
       "      <td>...</td>\n",
       "      <td>...</td>\n",
       "      <td>...</td>\n",
       "      <td>...</td>\n",
       "      <td>...</td>\n",
       "      <td>...</td>\n",
       "    </tr>\n",
       "    <tr>\n",
       "      <th>37300</th>\n",
       "      <td>zmzFL5bG-jc</td>\n",
       "      <td>DEVINE MON PERSONNAGE AVANT AKINATOR ! (c'est ...</td>\n",
       "      <td>UCIlr3byh6wmXgcPx_Tm9Ocw</td>\n",
       "      <td>Piwerre</td>\n",
       "      <td>2021-01-16 16:12:19</td>\n",
       "      <td>670357</td>\n",
       "      <td>54462</td>\n",
       "      <td>832</td>\n",
       "      <td>1249</td>\n",
       "      <td>Piwerre frere de michou crouton among us devin...</td>\n",
       "      <td>Discord Piwerre : https://discord.gg/QBduPgAA...</td>\n",
       "      <td>Mdr michou quand c'est pas ses tournage il fou...</td>\n",
       "      <td>Jan</td>\n",
       "    </tr>\n",
       "    <tr>\n",
       "      <th>37329</th>\n",
       "      <td>zpzjex7qwrA</td>\n",
       "      <td>Lampard Sacked Within Days Rorys Misery | Chel...</td>\n",
       "      <td>UCkD-ZOixI0a9FjIExDsHsbg</td>\n",
       "      <td>The Kick Off</td>\n",
       "      <td>2021-01-03 20:13:49</td>\n",
       "      <td>428646</td>\n",
       "      <td>12060</td>\n",
       "      <td>296</td>\n",
       "      <td>1505</td>\n",
       "      <td>Premier league Chelsea chelsea 1-3 Man City Ch...</td>\n",
       "      <td>The Kick Off watched Manchester City destroy C...</td>\n",
       "      <td>True Its like a fighter who Geordie But I thou...</td>\n",
       "      <td>Jan</td>\n",
       "    </tr>\n",
       "    <tr>\n",
       "      <th>37345</th>\n",
       "      <td>zqyv-B6mnBM</td>\n",
       "      <td>Lil Wayne - Ain't Got Time (Audio)</td>\n",
       "      <td>UCO9zJy7HWrIS3ojB4Lr7Yqw</td>\n",
       "      <td>Lil Wayne</td>\n",
       "      <td>2021-01-21 05:00:10</td>\n",
       "      <td>2238244</td>\n",
       "      <td>58925</td>\n",
       "      <td>2365</td>\n",
       "      <td>5539</td>\n",
       "      <td>lil wayne weezy weezy wednesday wayne carter y...</td>\n",
       "      <td>Official audio for Lil Wayne \"Ain't Got Time\",...</td>\n",
       "      <td>RIP Juice Wrld, wrote that on two cups, pour o...</td>\n",
       "      <td>Jan</td>\n",
       "    </tr>\n",
       "    <tr>\n",
       "      <th>37383</th>\n",
       "      <td>zwfu1-24T7Q</td>\n",
       "      <td>PRADA Cup Day 1 | Full Race Replay | PRADA Cup...</td>\n",
       "      <td>UCo15ZYO_XDRU9LI30OPtxAg</td>\n",
       "      <td>America's Cup</td>\n",
       "      <td>2021-01-15 04:07:55</td>\n",
       "      <td>317382</td>\n",
       "      <td>2008</td>\n",
       "      <td>83</td>\n",
       "      <td>192</td>\n",
       "      <td>America's Cup Americas Cup AC36 AC75 Presented...</td>\n",
       "      <td>The opening day of the PRADA Cup in Auckland, ...</td>\n",
       "      <td>Incredible how these boats evolve in a short t...</td>\n",
       "      <td>Jan</td>\n",
       "    </tr>\n",
       "    <tr>\n",
       "      <th>37418</th>\n",
       "      <td>zziBybeSAtw</td>\n",
       "      <td>PELICANS at LAKERS | FULL GAME HIGHLIGHTS | Ja...</td>\n",
       "      <td>UCWJ2lWNubArHWmf3FIHbfcQ</td>\n",
       "      <td>NBA</td>\n",
       "      <td>2021-01-16 05:39:05</td>\n",
       "      <td>2841917</td>\n",
       "      <td>20759</td>\n",
       "      <td>1049</td>\n",
       "      <td>2624</td>\n",
       "      <td>NBA G League Basketball game-0022000187 Lakers...</td>\n",
       "      <td>PELICANS at LAKERS | FULL GAME HIGHLIGHTS | Ja...</td>\n",
       "      <td>Montrezl Harrell is going crazy with the rebou...</td>\n",
       "      <td>Jan</td>\n",
       "    </tr>\n",
       "  </tbody>\n",
       "</table>\n",
       "<p>2108 rows × 13 columns</p>\n",
       "</div>"
      ],
      "text/plain": [
       "          video_id                                              title  \\\n",
       "27     -2Gwm7QfBnE                                    Q&A With Naisha   \n",
       "48     -4sfXSHSxzA           SURPRISING BRENT WITH HIS TIKTOK CRUSH!!   \n",
       "95     -AJD1Fc5rpQ  WE ARE HAVING A BABY! | finding out i'm pregna...   \n",
       "103    -AuJiwjsmWk              Do Ugly Foods Taste Worse? Taste Test   \n",
       "182    -JhqO2KWr5U                                   Schlatt gets fit   \n",
       "...            ...                                                ...   \n",
       "37300  zmzFL5bG-jc  DEVINE MON PERSONNAGE AVANT AKINATOR ! (c'est ...   \n",
       "37329  zpzjex7qwrA  Lampard Sacked Within Days Rorys Misery | Chel...   \n",
       "37345  zqyv-B6mnBM                 Lil Wayne - Ain't Got Time (Audio)   \n",
       "37383  zwfu1-24T7Q  PRADA Cup Day 1 | Full Race Replay | PRADA Cup...   \n",
       "37418  zziBybeSAtw  PELICANS at LAKERS | FULL GAME HIGHLIGHTS | Ja...   \n",
       "\n",
       "                     channel_id       channel_title        published_at  \\\n",
       "27     UCYwNMbogQFzMccPSuy-pPWg           MianTwins 2021-01-21 00:05:47   \n",
       "48     UCPpATKqmMV-CNRNWYaDUwiA        Alexa Rivera 2021-01-16 21:40:04   \n",
       "95     UCVsTboAhpnuL6j-tDePvNwQ      Tess Christine 2021-01-03 21:53:48   \n",
       "103    UCzpCc5n9hqiVC7HhPwcIKEg  Good Mythical MORE 2021-01-19 11:00:01   \n",
       "182    UCWZp4y1jqBuvLtiyxSs_ZBw             Big guy 2021-01-24 22:50:57   \n",
       "...                         ...                 ...                 ...   \n",
       "37300  UCIlr3byh6wmXgcPx_Tm9Ocw             Piwerre 2021-01-16 16:12:19   \n",
       "37329  UCkD-ZOixI0a9FjIExDsHsbg        The Kick Off 2021-01-03 20:13:49   \n",
       "37345  UCO9zJy7HWrIS3ojB4Lr7Yqw           Lil Wayne 2021-01-21 05:00:10   \n",
       "37383  UCo15ZYO_XDRU9LI30OPtxAg       America's Cup 2021-01-15 04:07:55   \n",
       "37418  UCWJ2lWNubArHWmf3FIHbfcQ                 NBA 2021-01-16 05:39:05   \n",
       "\n",
       "       view_count   likes  dislikes  comment_count  \\\n",
       "27         872372   38626       239            621   \n",
       "48        6504784  262477      5779           7907   \n",
       "95         533084   38965       119           1650   \n",
       "103       1057077   22526       531            773   \n",
       "182       1724965  119431       325           1578   \n",
       "...           ...     ...       ...            ...   \n",
       "37300      670357   54462       832           1249   \n",
       "37329      428646   12060       296           1505   \n",
       "37345     2238244   58925      2365           5539   \n",
       "37383      317382    2008        83            192   \n",
       "37418     2841917   20759      1049           2624   \n",
       "\n",
       "                                                    tags  \\\n",
       "27                                                         \n",
       "48                                                         \n",
       "95                                                         \n",
       "103    gmm good mythical morning rhettandlink rhett a...   \n",
       "182    jschlatt big guy jschlatt highlights schlatt j...   \n",
       "...                                                  ...   \n",
       "37300  Piwerre frere de michou crouton among us devin...   \n",
       "37329  Premier league Chelsea chelsea 1-3 Man City Ch...   \n",
       "37345  lil wayne weezy weezy wednesday wayne carter y...   \n",
       "37383  America's Cup Americas Cup AC36 AC75 Presented...   \n",
       "37418  NBA G League Basketball game-0022000187 Lakers...   \n",
       "\n",
       "                                             description  \\\n",
       "27     Hey Guys!!! this has been the most requested v...   \n",
       "48     He had no idea! Thank you guys so much for wat...   \n",
       "95     I am so happy to tell you that I am pregnant!!...   \n",
       "103    Today, we're doing a blind taste test to deter...   \n",
       "182                    #jschlatt #schlatt #bigguy #short   \n",
       "...                                                  ...   \n",
       "37300   Discord Piwerre : https://discord.gg/QBduPgAA...   \n",
       "37329  The Kick Off watched Manchester City destroy C...   \n",
       "37345  Official audio for Lil Wayne \"Ain't Got Time\",...   \n",
       "37383  The opening day of the PRADA Cup in Auckland, ...   \n",
       "37418  PELICANS at LAKERS | FULL GAME HIGHLIGHTS | Ja...   \n",
       "\n",
       "                                                comments published_month  \n",
       "27     I feel like Nate and Aishas personality match ...             Jan  \n",
       "48     Thank you guys for watching and don't forget t...             Jan  \n",
       "95     Okay I needed a moment to collect my thoughts ...             Jan  \n",
       "103    \"there's nothing wrong with it being bent\"\\nI ...             Jan  \n",
       "182    Schlatt is single handedly wiping out all the ...             Jan  \n",
       "...                                                  ...             ...  \n",
       "37300  Mdr michou quand c'est pas ses tournage il fou...             Jan  \n",
       "37329  True Its like a fighter who Geordie But I thou...             Jan  \n",
       "37345  RIP Juice Wrld, wrote that on two cups, pour o...             Jan  \n",
       "37383  Incredible how these boats evolve in a short t...             Jan  \n",
       "37418  Montrezl Harrell is going crazy with the rebou...             Jan  \n",
       "\n",
       "[2108 rows x 13 columns]"
      ]
     },
     "execution_count": 58,
     "metadata": {},
     "output_type": "execute_result"
    }
   ],
   "source": [
    "# Filter videos published in January\n",
    "videos_january = data[data['published_at'].dt.month == 1]\n",
    "\n",
    "# Display information about videos published in January\n",
    "videos_january"
   ]
  },
  {
   "cell_type": "code",
   "execution_count": 59,
   "id": "18c5a858",
   "metadata": {},
   "outputs": [
    {
     "name": "stdout",
     "output_type": "stream",
     "text": [
      "          video_id                                              title  \\\n",
      "27     -2Gwm7QfBnE                                    Q&A With Naisha   \n",
      "48     -4sfXSHSxzA           SURPRISING BRENT WITH HIS TIKTOK CRUSH!!   \n",
      "95     -AJD1Fc5rpQ  WE ARE HAVING A BABY! | finding out i'm pregna...   \n",
      "103    -AuJiwjsmWk              Do Ugly Foods Taste Worse? Taste Test   \n",
      "182    -JhqO2KWr5U                                   Schlatt gets fit   \n",
      "...            ...                                                ...   \n",
      "37300  zmzFL5bG-jc  DEVINE MON PERSONNAGE AVANT AKINATOR ! (c'est ...   \n",
      "37329  zpzjex7qwrA  Lampard Sacked Within Days Rorys Misery | Chel...   \n",
      "37345  zqyv-B6mnBM                 Lil Wayne - Ain't Got Time (Audio)   \n",
      "37383  zwfu1-24T7Q  PRADA Cup Day 1 | Full Race Replay | PRADA Cup...   \n",
      "37418  zziBybeSAtw  PELICANS at LAKERS | FULL GAME HIGHLIGHTS | Ja...   \n",
      "\n",
      "                     channel_id       channel_title        published_at  \\\n",
      "27     UCYwNMbogQFzMccPSuy-pPWg           MianTwins 2021-01-21 00:05:47   \n",
      "48     UCPpATKqmMV-CNRNWYaDUwiA        Alexa Rivera 2021-01-16 21:40:04   \n",
      "95     UCVsTboAhpnuL6j-tDePvNwQ      Tess Christine 2021-01-03 21:53:48   \n",
      "103    UCzpCc5n9hqiVC7HhPwcIKEg  Good Mythical MORE 2021-01-19 11:00:01   \n",
      "182    UCWZp4y1jqBuvLtiyxSs_ZBw             Big guy 2021-01-24 22:50:57   \n",
      "...                         ...                 ...                 ...   \n",
      "37300  UCIlr3byh6wmXgcPx_Tm9Ocw             Piwerre 2021-01-16 16:12:19   \n",
      "37329  UCkD-ZOixI0a9FjIExDsHsbg        The Kick Off 2021-01-03 20:13:49   \n",
      "37345  UCO9zJy7HWrIS3ojB4Lr7Yqw           Lil Wayne 2021-01-21 05:00:10   \n",
      "37383  UCo15ZYO_XDRU9LI30OPtxAg       America's Cup 2021-01-15 04:07:55   \n",
      "37418  UCWJ2lWNubArHWmf3FIHbfcQ                 NBA 2021-01-16 05:39:05   \n",
      "\n",
      "       view_count   likes  dislikes  comment_count  \\\n",
      "27         872372   38626       239            621   \n",
      "48        6504784  262477      5779           7907   \n",
      "95         533084   38965       119           1650   \n",
      "103       1057077   22526       531            773   \n",
      "182       1724965  119431       325           1578   \n",
      "...           ...     ...       ...            ...   \n",
      "37300      670357   54462       832           1249   \n",
      "37329      428646   12060       296           1505   \n",
      "37345     2238244   58925      2365           5539   \n",
      "37383      317382    2008        83            192   \n",
      "37418     2841917   20759      1049           2624   \n",
      "\n",
      "                                                    tags  \\\n",
      "27                                                         \n",
      "48                                                         \n",
      "95                                                         \n",
      "103    gmm good mythical morning rhettandlink rhett a...   \n",
      "182    jschlatt big guy jschlatt highlights schlatt j...   \n",
      "...                                                  ...   \n",
      "37300  Piwerre frere de michou crouton among us devin...   \n",
      "37329  Premier league Chelsea chelsea 1-3 Man City Ch...   \n",
      "37345  lil wayne weezy weezy wednesday wayne carter y...   \n",
      "37383  America's Cup Americas Cup AC36 AC75 Presented...   \n",
      "37418  NBA G League Basketball game-0022000187 Lakers...   \n",
      "\n",
      "                                             description  \\\n",
      "27     Hey Guys!!! this has been the most requested v...   \n",
      "48     He had no idea! Thank you guys so much for wat...   \n",
      "95     I am so happy to tell you that I am pregnant!!...   \n",
      "103    Today, we're doing a blind taste test to deter...   \n",
      "182                    #jschlatt #schlatt #bigguy #short   \n",
      "...                                                  ...   \n",
      "37300   Discord Piwerre : https://discord.gg/QBduPgAA...   \n",
      "37329  The Kick Off watched Manchester City destroy C...   \n",
      "37345  Official audio for Lil Wayne \"Ain't Got Time\",...   \n",
      "37383  The opening day of the PRADA Cup in Auckland, ...   \n",
      "37418  PELICANS at LAKERS | FULL GAME HIGHLIGHTS | Ja...   \n",
      "\n",
      "                                                comments published_month  \n",
      "27     I feel like Nate and Aishas personality match ...             Jan  \n",
      "48     Thank you guys for watching and don't forget t...             Jan  \n",
      "95     Okay I needed a moment to collect my thoughts ...             Jan  \n",
      "103    \"there's nothing wrong with it being bent\"\\nI ...             Jan  \n",
      "182    Schlatt is single handedly wiping out all the ...             Jan  \n",
      "...                                                  ...             ...  \n",
      "37300  Mdr michou quand c'est pas ses tournage il fou...             Jan  \n",
      "37329  True Its like a fighter who Geordie But I thou...             Jan  \n",
      "37345  RIP Juice Wrld, wrote that on two cups, pour o...             Jan  \n",
      "37383  Incredible how these boats evolve in a short t...             Jan  \n",
      "37418  Montrezl Harrell is going crazy with the rebou...             Jan  \n",
      "\n",
      "[2108 rows x 13 columns]\n"
     ]
    }
   ],
   "source": [
    "print(videos_january)"
   ]
  },
  {
   "cell_type": "code",
   "execution_count": 60,
   "id": "42a739f4",
   "metadata": {},
   "outputs": [
    {
     "name": "stdout",
     "output_type": "stream",
     "text": [
      "Count of videos published in January: 2108\n"
     ]
    }
   ],
   "source": [
    "# Convert 'published_at' column to datetime if not done already\n",
    "data['published_at'] = pd.to_datetime(data['published_at'])\n",
    "\n",
    "# Count the number of videos published in January\n",
    "count_january_videos = videos_january.shape[0]\n",
    "print(\"Count of videos published in January:\", count_january_videos)"
   ]
  },
  {
   "cell_type": "markdown",
   "id": "8c1785b6",
   "metadata": {},
   "source": [
    "This shows information about videos that were published in January, and you can see various details like video title, channel, view count, likes, dislikes, comment count, tags, description, comments, and the month of publication.\n",
    "\n",
    "There are a total of 2,108 videos that were published in January."
   ]
  },
  {
   "cell_type": "code",
   "execution_count": null,
   "id": "83624405",
   "metadata": {},
   "outputs": [],
   "source": []
  }
 ],
 "metadata": {
  "kernelspec": {
   "display_name": "Python 3 (ipykernel)",
   "language": "python",
   "name": "python3"
  },
  "language_info": {
   "codemirror_mode": {
    "name": "ipython",
    "version": 3
   },
   "file_extension": ".py",
   "mimetype": "text/x-python",
   "name": "python",
   "nbconvert_exporter": "python",
   "pygments_lexer": "ipython3",
   "version": "3.11.4"
  }
 },
 "nbformat": 4,
 "nbformat_minor": 5
}
